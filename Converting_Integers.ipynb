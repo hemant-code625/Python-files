{
  "nbformat": 4,
  "nbformat_minor": 0,
  "metadata": {
    "colab": {
      "provenance": []
    },
    "kernelspec": {
      "name": "python3",
      "display_name": "Python 3"
    },
    "language_info": {
      "name": "python"
    }
  },
  "cells": [
    {
      "cell_type": "code",
      "execution_count": null,
      "metadata": {
        "id": "kGsziSe7lG2R"
      },
      "outputs": [],
      "source": [
        "# Write a program to convert a given integer (in days) to years , months and days, assumes that all months have 30 days and all years have 365 days\n",
        "\n",
        "num = int(input(\"Enter a number:\"))\n",
        "y= num//365\n",
        "m = (num - y*365)//30\n",
        "d = (num - y*365 - m*30)\n",
        "\n",
        "print (\"\\nNumber of Years:\",y,\"\\nNumber of Months:\",m,\"\\nNumber of Days:\",d)"
      ]
    },
    {
      "cell_type": "code",
      "source": [
        "#Converting integers input (in seconds) to hours, minute and seconds\n",
        "\n",
        "n = int(input(\"Enter an integer number:\"))\n",
        "hr = n//(60*60)\n",
        "min = (n - hr*(60*60)) // 60\n",
        "sec = n- hr*3600 - min*60 \n",
        "\n",
        "\n",
        "print(\"\\nNumber of hours:\",hr,\"\\nNumber of minutes:\",min,\"\\nNumber of seconds:\", sec)\n"
      ],
      "metadata": {
        "id": "tO3DkN6nlXa6"
      },
      "execution_count": null,
      "outputs": []
    }
  ]
}